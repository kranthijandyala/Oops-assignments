{
 "cells": [
  {
   "cell_type": "markdown",
   "id": "1c6b90d1",
   "metadata": {},
   "source": [
    "# Square Numbers and Return Their Sum"
   ]
  },
  {
   "cell_type": "code",
   "execution_count": 5,
   "id": "9b8e94ea",
   "metadata": {},
   "outputs": [
    {
     "name": "stdout",
     "output_type": "stream",
     "text": [
      "square number is: 35\n"
     ]
    }
   ],
   "source": [
    "class Point:\n",
    "    def __init__(self,x,y,z):\n",
    "        self.x=x\n",
    "        self.y=y\n",
    "        self.z=z\n",
    "    def sqsum(self):\n",
    "        return self.x**2+self.y**2+self.z**2\n",
    "p=Point(1,3,5)\n",
    "result=p.sqsum()\n",
    "print(\"square number is:\",result)"
   ]
  },
  {
   "cell_type": "markdown",
   "id": "13244fd7",
   "metadata": {},
   "source": [
    "# Implement a Calculator Class"
   ]
  },
  {
   "cell_type": "code",
   "execution_count": 12,
   "id": "d0c17b77",
   "metadata": {},
   "outputs": [
    {
     "name": "stdout",
     "output_type": "stream",
     "text": [
      "addition number is: 104\n",
      "subtraction number is: -84\n",
      "multiplication number is: 940\n",
      "divided number is: 9.4\n"
     ]
    }
   ],
   "source": [
    "class caluclator:\n",
    "    def __init__(self,x,y):\n",
    "        self.x=x\n",
    "        self.y=y\n",
    "    def add(self):\n",
    "        return self.x+self.y\n",
    "    def sub(self):\n",
    "        return self.x-self.y\n",
    "    def multiply(self):\n",
    "        return self.x*self.y\n",
    "    def divided(self):\n",
    "        return self.y/self.x\n",
    "c=caluclator(10,94)\n",
    "print(\"addition number is:\",c.add())\n",
    "print(\"subtraction number is:\",c.sub())\n",
    "print(\"multiplication number is:\",c.multiply())\n",
    "print(\"divided number is:\",c.divided())"
   ]
  },
  {
   "cell_type": "markdown",
   "id": "623dbff6",
   "metadata": {},
   "source": [
    "# Implement the Complete Student Class"
   ]
  },
  {
   "cell_type": "code",
   "execution_count": 30,
   "id": "67799dea",
   "metadata": {},
   "outputs": [
    {
     "name": "stdout",
     "output_type": "stream",
     "text": [
      "Name is: kranthi\n",
      "Roll number is: 123\n"
     ]
    }
   ],
   "source": [
    "class student:\n",
    "    def setname(self,name):\n",
    "        self.__name=name\n",
    "    def getname(self):\n",
    "        return self.__name\n",
    "    def setrollnumber(self,rollnumber):\n",
    "        self.__rollnumber=rollnumber\n",
    "    def getrollnumber(self):\n",
    "        return self.__rollnumber\n",
    "x=student()\n",
    "x.setname(\"kranthi\")\n",
    "x.setrollnumber(\"123\")\n",
    "print(\"Name is:\",x.getname())\n",
    "print(\"Roll number is:\",x.getrollnumber())"
   ]
  },
  {
   "cell_type": "markdown",
   "id": "36a917aa",
   "metadata": {},
   "source": [
    "# Implement a Banking Account"
   ]
  },
  {
   "cell_type": "code",
   "execution_count": 45,
   "id": "abd602f8",
   "metadata": {},
   "outputs": [
    {
     "name": "stdout",
     "output_type": "stream",
     "text": [
      "Your Account Name: kranthi\n",
      "Your Account Balance: 5000\n",
      "Your Saving A/c Intrest: 5\n"
     ]
    }
   ],
   "source": [
    "class Account:\n",
    "    def __init__(self, title, balance):\n",
    "        self.title = title\n",
    "        self.balance = balance\n",
    "\n",
    "class SavingsAccount(Account):\n",
    "    def __init__(self, title, balance, interestRate):\n",
    "        self.interestRate = interestRate\n",
    "\n",
    "a = Account(\"kranthi\", 5000)\n",
    "print(\"Your Account Name:\",a.title) \n",
    "print(\"Your Account Balance:\",a.balance) \n",
    "\n",
    "s = SavingsAccount(\"kranthi\", 5000, 5)\n",
    "#print(s.title) \n",
    "#print(s.balance) \n",
    "print(\"Your Saving A/c Intrest:\",s.interestRate)"
   ]
  },
  {
   "cell_type": "markdown",
   "id": "3ea60da5",
   "metadata": {},
   "source": [
    "# Handling a Bank Account"
   ]
  },
  {
   "cell_type": "code",
   "execution_count": 31,
   "id": "48970bae",
   "metadata": {},
   "outputs": [
    {
     "name": "stdout",
     "output_type": "stream",
     "text": [
      "enter a balance: 5000\n",
      "Balance after deposit: 7000\n",
      "Balance after withdrawal: 6000\n",
      "intrerest amount: 300.0\n"
     ]
    }
   ],
   "source": [
    "class Account:\n",
    "    def __init__(self, title=None, balance=0):\n",
    "        self.title = title\n",
    "        self.balance = balance\n",
    "    \n",
    "    def withdrawal(self, amount):\n",
    "        self.balance=self.balance-amount\n",
    "    def deposit(self, amount):\n",
    "        self.balance=self.balance+amount\n",
    "    def getbalance(self):\n",
    "        return self.balance\n",
    "    \n",
    "class SavingsAccount(Account):\n",
    "    def __init__(self, title=None, balance=0, interestRate=0):\n",
    "            super(). __init__(title, balance)\n",
    "            self.interestRate = interestRate\n",
    "    \n",
    "    def interestAmount(self):\n",
    "        return (self.balance * self.interestRate)/100\n",
    "\n",
    "x=SavingsAccount(\"kranthi\",5000,5)\n",
    "print(\"enter a balance:\",x.getbalance())\n",
    "x.deposit(2000)\n",
    "print(\"Balance after deposit:\",x.getbalance())\n",
    "x.withdrawal(1000)\n",
    "print(\"Balance after withdrawal:\",x.getbalance())\n",
    "print(\"intrerest amount:\",x.interestAmount())"
   ]
  },
  {
   "cell_type": "code",
   "execution_count": 44,
   "id": "c96df086",
   "metadata": {},
   "outputs": [
    {
     "name": "stdout",
     "output_type": "stream",
     "text": [
      "Your Account Name: kranthi\n",
      "Your Account Balance: 5000\n",
      "Your Saving A/c Intrest: 5\n"
     ]
    }
   ],
   "source": [
    "class Account:\n",
    "    def __init__(self, title, balance):\n",
    "        self.title = title\n",
    "        self.balance = balance\n",
    "\n",
    "class SavingsAccount(Account):\n",
    "    def __init__(self, title, balance, interestRate):\n",
    "        self.interestRate = interestRate\n",
    "\n",
    "a = Account(\"kranthi\", 5000)\n",
    "print(\"Your Account Name:\",a.title) \n",
    "print(\"Your Account Balance:\",a.balance) \n",
    "\n",
    "s = SavingsAccount(\"kranthi\", 5000, 5)\n",
    "#print(s.title) \n",
    "#print(s.balance) \n",
    "print(\"Your Saving A/c Intrest:\",s.interestRate)"
   ]
  },
  {
   "cell_type": "code",
   "execution_count": null,
   "id": "1e7aab67",
   "metadata": {},
   "outputs": [],
   "source": []
  },
  {
   "cell_type": "code",
   "execution_count": null,
   "id": "25889870",
   "metadata": {},
   "outputs": [],
   "source": []
  }
 ],
 "metadata": {
  "kernelspec": {
   "display_name": "Python 3 (ipykernel)",
   "language": "python",
   "name": "python3"
  },
  "language_info": {
   "codemirror_mode": {
    "name": "ipython",
    "version": 3
   },
   "file_extension": ".py",
   "mimetype": "text/x-python",
   "name": "python",
   "nbconvert_exporter": "python",
   "pygments_lexer": "ipython3",
   "version": "3.9.13"
  }
 },
 "nbformat": 4,
 "nbformat_minor": 5
}
